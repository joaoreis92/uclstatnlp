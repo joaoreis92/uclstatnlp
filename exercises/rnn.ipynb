{
 "cells": [
  {
   "cell_type": "markdown",
   "metadata": {
    "run_control": {
     "frozen": false,
     "read_only": false
    }
   },
   "source": [
    "# Exercise: Recognizing Textual Entailment\n",
    "\n",
    "In this exercise, we are going to implement some of the models discussed in the Deep Learning for Natural Language Processing chapter. Specifically, we are going to implement an RTE system using TensorFlow. Instead of running this on a large corpus like SNLI, we are working on a very small corpus for implementation purposes. This is a common practice as in early stages of development we will likely encounter bugs in our cope and compile and run-time errors for which we do not need to train on a lot of data. It is generally a good idea to first test whether our model can overfit a tiny debug corpus."
   ]
  },
  {
   "cell_type": "code",
   "execution_count": 2,
   "metadata": {
    "ExecuteTime": {
     "end_time": "2016-12-16T11:48:52.328673",
     "start_time": "2016-12-16T11:48:52.300413"
    },
    "collapsed": false,
    "run_control": {
     "frozen": false,
     "read_only": false
    }
   },
   "outputs": [
    {
     "name": "stdout",
     "output_type": "stream",
     "text": [
      "[[  1.   2.   3.   4.   5.   6.   0.   0.   0.   0.   0.   0.   0.   0.\n",
      "    0.]\n",
      " [  7.   8.   9.  10.  11.  12.  13.  14.  15.  16.  17.  18.  19.   0.\n",
      "    0.]\n",
      " [  7.   8.   9.  10.  11.  12.  13.  14.  15.  16.  17.  18.  19.   0.\n",
      "    0.]\n",
      " [  7.  20.  11.  17.  21.  22.  23.  17.  24.  25.  26.   0.   0.   0.\n",
      "    0.]\n",
      " [  7.  27.  13.  17.  28.  29.   3.  30.  23.  31.  32.  33.  34.  17.\n",
      "   35.]\n",
      " [  7.  36.  37.  38.  17.  39.   8.  11.  14.  40.   0.   0.   0.   0.\n",
      "    0.]]\n"
     ]
    },
    {
     "name": "stderr",
     "output_type": "stream",
     "text": [
      "/home/joao/anaconda3/lib/python3.5/site-packages/numpy/core/numeric.py:301: FutureWarning: in the future, full([6, 15], 0) will return an array of dtype('int64')\n",
      "  format(shape, fill_value, array(fill_value).dtype), FutureWarning)\n",
      "/home/joao/anaconda3/lib/python3.5/site-packages/numpy/core/numeric.py:301: FutureWarning: in the future, full([6, 12], 0) will return an array of dtype('int64')\n",
      "  format(shape, fill_value, array(fill_value).dtype), FutureWarning)\n"
     ]
    }
   ],
   "source": [
    "import numpy as np\n",
    "\n",
    "# examples from SNLI training corpus, 2=entailment, 1=neutral, 0=contradiction\n",
    "# premise, hypothesis, label\n",
    "data = [\n",
    "    (\"Children smiling and waving at camera\", \"They are smiling at their parents\", 1),\n",
    "    (\"A boy is jumping on skateboard in the middle of a red bridge.\", \"The boy does a skateboarding trick.\", 2),\n",
    "    (\"A boy is jumping on skateboard in the middle of a red bridge.\", \"The boy skates down the sidewalk.\", 0),\n",
    "    (\"A person on a horse jumps over a broken down airplane.\", \"A person is outdoors, on a horse.\", 2),    \n",
    "    (\"A woman in a green jacket and hood over her head looking towards a valley.\", \"The woman is cold.\", 1),\n",
    "    (\"A couple playing with a little boy on the beach.\", \"A couple watch a little girl play by herself on the beach.\", 0)\n",
    "]\n",
    "\n",
    "def data2np(data, PAD=0):\n",
    "    \"\"\"Transforms data into a list of numpy tensors.\"\"\"\n",
    "    premises = []; premise_lengths = []\n",
    "    hypotheses = []; hypothesis_lengths = []\n",
    "    labels = []    \n",
    "    for premise, hypothesis, label in data:\n",
    "        premise_tokenized = premise.split(\" \")\n",
    "        premises.append(premise_tokenized)\n",
    "        premise_lengths.append(len(premise_tokenized))\n",
    "        hypotheses_tokenized = hypothesis.split(\" \")\n",
    "        hypotheses.append(hypotheses_tokenized)\n",
    "        hypothesis_lengths.append(len(hypotheses_tokenized))\n",
    "        labels.append(label)\n",
    "    vocab = {\"<PAD>\": PAD}\n",
    "    premises_np = np.full([len(data), np.max(premise_lengths)], PAD)\n",
    "    hypotheses_np = np.full([len(data), np.max(hypothesis_lengths)], PAD)    \n",
    "    for k, seqs in enumerate([premises, hypotheses]):\n",
    "        for i, seq in enumerate(seqs):\n",
    "            for j, word in enumerate(seq):\n",
    "                if word not in vocab:\n",
    "                    vocab[word] = len(vocab)\n",
    "                seq[j] = vocab[word] \n",
    "            if k == 0:\n",
    "                premises_np[i, 0:premise_lengths[i]] = seq\n",
    "            else:\n",
    "                hypotheses_np[i, 0:hypothesis_lengths[i]] = seq\n",
    "    return premises_np, premise_lengths, hypotheses_np, hypothesis_lengths, labels, vocab\n",
    "\n",
    "premises_np, premise_lengths, hypotheses_np, hypothesis_lengths, labels, vocab = data2np(data)\n",
    "\n",
    "print(premises_np)"
   ]
  },
  {
   "cell_type": "code",
   "execution_count": 4,
   "metadata": {
    "ExecuteTime": {
     "end_time": "2016-12-16T11:48:57.272579",
     "start_time": "2016-12-16T11:48:53.018519"
    },
    "collapsed": false,
    "run_control": {
     "frozen": false,
     "read_only": false
    }
   },
   "outputs": [
    {
     "name": "stdout",
     "output_type": "stream",
     "text": [
      "Epoch: 0 Loss: 6.53497\n"
     ]
    },
    {
     "data": {
      "image/png": "[encoded data removed]",
      "text/plain": [
       "<matplotlib.figure.Figure at 0x119c9b4e0>"
      ]
     },
     "metadata": {},
     "output_type": "display_data"
    },
    {
     "name": "stdout",
     "output_type": "stream",
     "text": [
      "Epoch: 1 Loss: 6.07495\n"
     ]
    },
    {
     "data": {
      "image/png": "[encoded data removed]",
      "text/plain": [
       "<matplotlib.figure.Figure at 0x11a0626a0>"
      ]
     },
     "metadata": {},
     "output_type": "display_data"
    },
    {
     "name": "stdout",
     "output_type": "stream",
     "text": [
      "Epoch: 2 Loss: 5.07668\n"
     ]
    },
    {
     "data": {
      "image/png": "[encoded data removed]",
      "text/plain": [
       "<matplotlib.figure.Figure at 0x119fa36d8>"
      ]
     },
     "metadata": {},
     "output_type": "display_data"
    },
    {
     "name": "stdout",
     "output_type": "stream",
     "text": [
      "Epoch: 3 Loss: 3.86799\n"
     ]
    },
    {
     "data": {
      "image/png": "[encoded data removed]",
      "text/plain": [
       "<matplotlib.figure.Figure at 0x119e15908>"
      ]
     },
     "metadata": {},
     "output_type": "display_data"
    },
    {
     "name": "stdout",
     "output_type": "stream",
     "text": [
      "Epoch: 4 Loss: 2.91219\n"
     ]
    },
    {
     "data": {
      "image/png": "[encoded data removed]",
      "text/plain": [
       "<matplotlib.figure.Figure at 0x119ea8240>"
      ]
     },
     "metadata": {},
     "output_type": "display_data"
    },
    {
     "name": "stdout",
     "output_type": "stream",
     "text": [
      "Epoch: 5 Loss: 1.97814\n"
     ]
    },
    {
     "data": {
      "image/png": "[encoded data removed]",
      "text/plain": [
       "<matplotlib.figure.Figure at 0x119fce908>"
      ]
     },
     "metadata": {},
     "output_type": "display_data"
    },
    {
     "name": "stdout",
     "output_type": "stream",
     "text": [
      "Epoch: 6 Loss: 1.07354\n"
     ]
    },
    {
     "data": {
      "image/png": "[encoded data removed]",
      "text/plain": [
       "<matplotlib.figure.Figure at 0x11a0cb470>"
      ]
     },
     "metadata": {},
     "output_type": "display_data"
    },
    {
     "name": "stdout",
     "output_type": "stream",
     "text": [
      "Epoch: 7 Loss: 0.744045\n"
     ]
    },
    {
     "data": {
      "image/png": "[encoded data removed]",
      "text/plain": [
       "<matplotlib.figure.Figure at 0x119fda438>"
      ]
     },
     "metadata": {},
     "output_type": "display_data"
    },
    {
     "name": "stdout",
     "output_type": "stream",
     "text": [
      "Epoch: 8 Loss: 0.767947\n"
     ]
    },
    {
     "data": {
      "image/png": "[encoded data removed]",
      "text/plain": [
       "<matplotlib.figure.Figure at 0x119e102e8>"
      ]
     },
     "metadata": {},
     "output_type": "display_data"
    },
    {
     "name": "stdout",
     "output_type": "stream",
     "text": [
      "Epoch: 9 Loss: 0.483709\n"
     ]
    },
    {
     "data": {
      "image/png": "[encoded data removed]",
      "text/plain": [
       "<matplotlib.figure.Figure at 0x119fa34e0>"
      ]
     },
     "metadata": {},
     "output_type": "display_data"
    }
   ],
   "source": [
    "import tensorflow as tf\n",
    "import seaborn as sns\n",
    "import matplotlib.pyplot as plt\n",
    "%matplotlib inline\n",
    "\n",
    "with tf.Graph().as_default():\n",
    "    ## Placeholders\n",
    "    # [batch_size x max_premise_length]\n",
    "    premises_pl = tf.placeholder(tf.int64, [None, None], \"premises\")\n",
    "    # [batch_size]\n",
    "    premise_lengths_pl = tf.placeholder(tf.int64, [None], \"premise_lengths\")\n",
    "    # [batch_size x max_hypothesis_length]\n",
    "    hypotheses_pl = tf.placeholder(tf.int64, [None, None], \"hypotheses\")\n",
    "    # [batch_size]\n",
    "    hypothesis_lengths_pl = tf.placeholder(tf.int64, [None], \"hypothesis_lengths\")\n",
    "    # [batch_size]\n",
    "    labels_pl = tf.placeholder(tf.int64, [None], \"labels\")\n",
    "\n",
    "    ## Model\n",
    "    input_size = 2\n",
    "    hidden_size = 5\n",
    "    target_size = 3\n",
    "    vocab_size = len(vocab)\n",
    "\n",
    "    embeddings = tf.get_variable(\"W\", [vocab_size, input_size])\n",
    "\n",
    "    # [batch_size x max_premise_length x input_size]\n",
    "    premises_embedded = tf.nn.embedding_lookup(embeddings, premises_pl)\n",
    "    # [batch_size x max_hypothesis_length x input_size]\n",
    "    hypotheses_embedded = tf.nn.embedding_lookup(embeddings, hypotheses_pl)\n",
    "\n",
    "    with tf.variable_scope(\"encoder\") as varscope:\n",
    "        cell = tf.nn.rnn_cell.LSTMCell(hidden_size, state_is_tuple=True)\n",
    "        _, premise_final_state = \\\n",
    "            tf.nn.dynamic_rnn(cell, premises_embedded, sequence_length=premise_lengths_pl, dtype=tf.float32)    \n",
    "        # [batch_size x hidden_size]\n",
    "        premises_h = premise_final_state.h\n",
    "        varscope.reuse_variables()  # using the same encoder for premises and hypotheses\n",
    "        _, hypothesis_final_state = \\\n",
    "            tf.nn.dynamic_rnn(cell, hypotheses_embedded, sequence_length=hypothesis_lengths_pl, dtype=tf.float32)  \n",
    "        # [batch_size x hidden_size]\n",
    "        hypotheses_h = hypothesis_final_state.h\n",
    "         \n",
    "    # [batch_size x 2*hidden_size]\n",
    "    pair_representation = tf.concat(1, [premises_h, hypotheses_h])\n",
    "        \n",
    "    # [batch_size x target_size]\n",
    "    logits = tf.contrib.layers.linear(pair_representation, target_size)\n",
    "        \n",
    "    probability = tf.nn.softmax(logits)\n",
    "    \n",
    "    ## Training Loss\n",
    "    loss = tf.reduce_sum(tf.nn.sparse_softmax_cross_entropy_with_logits(logits, labels_pl))\n",
    "            \n",
    "    ## Optimizer\n",
    "    optim = tf.train.AdamOptimizer(0.1)\n",
    "    optim_op = optim.minimize(loss)\n",
    "        \n",
    "    with tf.Session() as sess:\n",
    "        sess.run(tf.initialize_all_variables())\n",
    "        \n",
    "        feed_dict = {\n",
    "            premises_pl: premises_np,\n",
    "            premise_lengths_pl: premise_lengths,\n",
    "            hypotheses_pl: hypotheses_np,\n",
    "            hypothesis_lengths_pl: hypothesis_lengths,\n",
    "            labels_pl: labels\n",
    "        }\n",
    "        \n",
    "        for i in range(10):\n",
    "            _, current_loss, current_probabilities = sess.run([optim_op, loss, probability], feed_dict)\n",
    "            print(\"Epoch:\", i, \"Loss:\", current_loss)\n",
    "            sns.heatmap(current_probabilities, vmin=0.0, vmax=1.0, square=True, cmap=\"Blues\") \n",
    "            plt.show()"
   ]
  },
  {
   "cell_type": "markdown",
   "metadata": {},
   "source": [
    "# Task\n",
    "Extend the above model, for instance, by:\n",
    "  - Multi-layer instead of single-layer perceptron for prediction\n",
    "  - Bucketing\n",
    "  - Batching (instead of passing the entire dataset to the model)\n",
    "    - Make sure to draw random batches from the data\n",
    "  - Stacked RNNs (see `tf.nn.rnn_cell.MultiRNNCell`)\n",
    "  - Dropout on the input and output embeddings (see `tf.nn.dropout`)\n",
    "  - L2 regularization (see `tf.nn.l2_loss`)\n",
    "  - Gradient clipping (see `tf.clip_by_value` or `tf.clip_by_norm`)\n",
    "  - Conditional encoding\n",
    "  - Bi-directional RNNs\n",
    "  - Attention\n",
    "  - Word-by-word attention\n",
    "  - Larger portion of SNLI corpus (see http://nlp.stanford.edu/projects/snli/)\n",
    "  - Pre-trained word representations\n",
    "  - Better tokenization\n",
    "  - Early stopping\n",
    "  - Hyper-parameter optimization (e.g. random search)\n",
    "    - Initial learning rate\n",
    "    - Dropout probability\n",
    "    - Input and output size\n",
    "    - L2 regularization\n",
    "    - Gradient clipping value\n",
    "    - Batch size\n",
    "    - ...\n",
    "  - Any ideas from papers on nlp.stanford.edu/projects/snli/"
   ]
  }
 ],
 "metadata": {
  "anaconda-cloud": {},
  "hide_input": false,
  "kernelspec": {
   "display_name": "Python [default]",
   "language": "python",
   "name": "python3"
  },
  "language_info": {
   "codemirror_mode": {
    "name": "ipython",
    "version": 3
   },
   "file_extension": ".py",
   "mimetype": "text/x-python",
   "name": "python",
   "nbconvert_exporter": "python",
   "pygments_lexer": "ipython3",
   "version": "3.5.2"
  }
 },
 "nbformat": 4,
 "nbformat_minor": 0
}
