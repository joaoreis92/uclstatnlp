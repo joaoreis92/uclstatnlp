{
 "cells": [
  {
   "cell_type": "markdown",
   "metadata": {},
   "source": [
    "<!---\n",
    "Latex Macros\n",
    "-->\n",
    "$$\n",
    "\\newcommand{\\bar}{\\,|\\,}\n",
    "\\newcommand{\\Xs}{\\mathcal{X}}\n",
    "\\newcommand{\\Ys}{\\mathcal{Y}}\n",
    "\\newcommand{\\y}{\\mathbf{y}}\n",
    "\\newcommand{\\weights}{\\mathbf{w}}\n",
    "\\newcommand{\\balpha}{\\boldsymbol{\\alpha}}\n",
    "\\newcommand{\\bbeta}{\\boldsymbol{\\beta}}\n",
    "\\newcommand{\\aligns}{\\mathbf{a}}\n",
    "\\newcommand{\\align}{a}\n",
    "\\newcommand{\\source}{\\mathbf{s}}\n",
    "\\newcommand{\\target}{\\mathbf{t}}\n",
    "\\newcommand{\\ssource}{s}\n",
    "\\newcommand{\\starget}{t}\n",
    "\\newcommand{\\repr}{\\mathbf{f}}\n",
    "\\newcommand{\\repry}{\\mathbf{g}}\n",
    "\\newcommand{\\x}{\\mathbf{x}}\n",
    "\\newcommand{\\prob}{p}\n",
    "\\newcommand{\\vocab}{V}\n",
    "\\newcommand{\\params}{\\boldsymbol{\\theta}}\n",
    "\\newcommand{\\param}{\\theta}\n",
    "\\DeclareMathOperator{\\perplexity}{PP}\n",
    "\\DeclareMathOperator{\\argmax}{argmax}\n",
    "\\DeclareMathOperator{\\argmin}{argmin}\n",
    "\\newcommand{\\train}{\\mathcal{D}}\n",
    "\\newcommand{\\counts}[2]{\\#_{#1}(#2) }\n",
    "\\newcommand{\\length}[1]{\\text{length}(#1) }\n",
    "\\newcommand{\\indi}{\\mathbb{I}}\n",
    "$$"
   ]
  },
  {
   "cell_type": "markdown",
   "metadata": {},
   "source": [
    "# Assignment 2\n",
    "\n",
    "## Introduction\n",
    "In this assignment you will build the first stage of a biomedical event extractor. Biomedical events are state changes of biomolecules. For example, if you have a protein and you add a phosphate (PO4) group to it, this is referred to as a phosphorylation event. Many papers in the biomedical literature mention such events. The grand goal of biomedical event extraction is to teach machines how to read this literature and produce structured representations of biomedical events that biomedical researchers can query effectively. This task has received considerable attention in the NLP literature, and is the topic of a biennial [shared task](http://2011.bionlp-st.org/). We will use the data from this task as starting point for this assignment.   \n",
    "\n",
    "To illustrate biomedical event extraction, let us consider an example. From the sentence \n",
    "\n",
    "> **phosphorylation** of TRAF2 **inhibits** **binding** to the CD40 domain\n",
    "\n",
    "we could extract the structure \n",
    "\n",
    "> Negative_Regulation(Phosphorylation(TRAF2), Binding(TRAF2, CD40)\n",
    "\n",
    "and store it in a database. Someone can then query this database, for example, to figure out all ways to prevent binding of TRAF2 to CD40.\n",
    "\n",
    "The task is often divided into two steps. First you need to find **trigger** words in the sentence that correspond to biomedical events, and determine their event type *label*. For example, in the above sentence \"phosphorylation\" is a trigger word for an event of type \"Phosphorylation\", \"inhibits\" a trigger word for a \"Negative Regulation\" event, and \"binding\" a trigger for a \"Binding\" event. Notice that sometimes the type labels are obvious, but often they are not. Also note that the label of a word could be \"None\". For example, the word \"of\" in the above sentence has the label \"None\".  \n",
    "\n",
    "The second step requires the extractor to produce **argument relations** between event triggers and protein mentions or other event triggers. For example, in the above case the argument of \"phosphorylation\" is \"TRAF2\", and one argument of \"inhibits\" is \"phosphorylation of TRAF2\" whereas the other is \"binding to the CD40 domain\". In this assignment you **do not have to do this**. We will focus on the event trigger detection problem exclusively. \n",
    "\n",
    "## Goal\n",
    "Your goal is to develop an event trigger labeler. This extractor is given a sentence and a candidate token. Both constitute the input $\\x$. One such input could be: \n",
    "\n",
    "> $\\x$: phosphorylation of TRAF2 **inhibits** binding to the CD40 domain\n",
    "\n",
    "The goal is to predict the label $y$ of the candidate event trigger. In the above case the label would be $y=\\text{Negative_Regulation}$. \n",
    "\n",
    "Some candidates may not refer to event triggers at all. For example:\n",
    "\n",
    "> $\\x$: phosphorylation **of** TRAF2 inhibits binding to the CD40 domain\n",
    "\n",
    "In such cases the label is $y=\\text{None}$.\n",
    "\n",
    "## Resources\n",
    "To develop your model you have access to:\n",
    "\n",
    "* The data in `data/bionlp/train`. This data can be split into training and dev set (as done below), or used for cross-validation.\n",
    "* Helper code stored in the python module [bio.py](/edit/statnlpbook/bio.py).\n",
    "* Libraries on the [docker image](https://github.com/uclmr/stat-nlp-book/blob/python/Dockerfile) which contains everything in [this image](https://github.com/jupyter/docker-stacks/tree/master/scipy-notebook), including scikit-learn and tensorflow. \n",
    "\n",
    "As we have to run the notebooks of all students, and because writing efficient code is important, **your notebook should run in 5 minutes at most**, on your machine. Further comments:\n",
    "\n",
    "* We have tested a possible solution on the Azure VMs and it ran in about 30s, so it is possible to train a reasonable model on the data in reasonable time. If you find training times too long for your development cycle you can reduce the training set size. Once you have found a good solution you can increase the size again. Caveat: model parameters tuned on a smaller dataset may not be optimal for a larger training set.\n",
    "\n",
    "* Try to run your parameter optimisation offline, such that in your answer notebook the best parameters are already set and don't need to be searched. Include your optimisation code in the notebook, but don't call it at each notebook run."
   ]
  },
  {
   "cell_type": "markdown",
   "metadata": {},
   "source": [
    "## Hint\n",
    "While you do not need to predict the arguments of an event, it is important to understand how trigger labels relate to the syntactic and semantic arguments of the trigger word. Features that can capture this relation might help you in improving the result. Do inspect the data and try to get an understanding of it. That said, you don't have to be a biomedical expert to do well in this task. A few of the best results on the task were achieved by NLP researchers without any biomedical experience. They would, however, still inspect the data carefully.  "
   ]
  },
  {
   "cell_type": "markdown",
   "metadata": {},
   "source": [
    "## Setup Instructions\n",
    "It is important that this file is placed in the **correct directory**. It will not run otherwise. The correct directory is\n",
    "\n",
    "    DIRECTORY_OF_YOUR_BOOK/assignments/2016/assignment2/problem/\n",
    "    \n",
    "where `DIRECTORY_OF_YOUR_BOOK` is a placeholder for the directory you downloaded the book to. After you placed it there, **rename the file** to your UCL ID (of the form `ucxxxxx`). "
   ]
  },
  {
   "cell_type": "markdown",
   "metadata": {},
   "source": [
    "## General Instructions\n",
    "This notebook will be used by you to provide your solution, and by us to both assess your solution and enter your marks. It contains three types of sections:\n",
    "\n",
    "1. **Setup** Sections: these sections set up code and resources for assessment. **Do not edit, move nor copy these cells**.\n",
    "2. **Assessment** Sections: these sections are used for both evaluating the output of your code, and for markers to enter their marks. **Do not edit, move, nor copy these cells**.\n",
    "3. **Task** Sections: these sections require your solutions. They may contain stub code, and you are expected to edit this code. For free text answers simply edit the markdown field.  \n",
    "\n",
    "**If you edit, move or copy any of the setup, assessments and mark cells, you will be penalised with -10 points**.\n",
    "\n",
    "Note that you are free to **create additional notebook cells** within a task section. \n",
    "\n",
    "Please **do not share** this assignment publicly, by uploading it online, emailing it to friends etc. "
   ]
  },
  {
   "cell_type": "markdown",
   "metadata": {},
   "source": [
    "## Submission Instructions\n",
    "\n",
    "To submit your solution:\n",
    "\n",
    "* Make sure that your solution is fully contained in this notebook. \n",
    "* Make sure that your solution runs linearly from start to end (no execution hops). We will run your notebook in that order.\n",
    "* **If running your notebook produces a trivially fixable error that we spot, we will correct it and penalise you with -10 points. Otherwise you will get 0 points for that solution.**\n",
    "* **Rename this notebook to your UCL ID** (of the form \"ucxxxxx\"), if you have not already done so. ** Failure to do so will result in -1 point.**\n",
    "* Download the notebook in Jupyter via *File -> Download as -> Notebook (.ipynb)*.\n",
    "* Upload the notebook to the Moodle submission site."
   ]
  },
  {
   "cell_type": "markdown",
   "metadata": {},
   "source": [
    "## <font color='green'>Setup 1</font>: Load Libraries\n",
    "This cell loads libraries important for evaluation and assessment of your model. **Do not change, move or copy it.**"
   ]
  },
  {
   "cell_type": "code",
   "execution_count": 1,
   "metadata": {
    "collapsed": false
   },
   "outputs": [],
   "source": [
    "%%capture\n",
    "%load_ext autoreload\n",
    "%autoreload 2\n",
    "%matplotlib inline\n",
    "#! SETUP 1 - DO NOT CHANGE, MOVE NOR COPY\n",
    "import sys, os\n",
    "_snlp_book_dir = \"../../../../\"\n",
    "sys.path.append(_snlp_book_dir) \n",
    "import math\n",
    "from collections import defaultdict\n",
    "import statnlpbook.bio as bio"
   ]
  },
  {
   "cell_type": "markdown",
   "metadata": {},
   "source": [
    "## <font color='green'>Setup 2</font>: Load Training Data\n",
    "\n",
    "This cell loads the training data. **Do not edit this setup section, nor copy it**. Instead refer to the variables in your own code, and slice and dice them as you see fit (but do not change their values). For example, no one will stop you from introducing, in the corresponding task section, `my_event_train` and `my_event_dev` variables that split the data into different folds.   \n",
    "\n",
    "Notice that the data is loaded from `json` files like [this one](/edit/data/bionlp/train/PMC-1310901-00-TIAB.json). Generally, you do not need to understand this format, as we provide loading functions that produce more convenient data structures shown below. But do feel free to investigate. "
   ]
  },
  {
   "cell_type": "code",
   "execution_count": 2,
   "metadata": {
    "collapsed": false
   },
   "outputs": [],
   "source": [
    "#! SETUP 2 - DO NOT CHANGE, MOVE NOR COPY\n",
    "train_path = _snlp_book_dir + \"data/bionlp/train\"\n",
    "event_corpus = bio.load_assignment2_training_data(train_path)\n",
    "event_train = event_corpus[:len(event_corpus)//4 * 3]\n",
    "event_dev = event_corpus[len(event_corpus)//4 * 3:]\n",
    "assert(len(event_train)==53988)"
   ]
  },
  {
   "cell_type": "markdown",
   "metadata": {},
   "source": [
    "## Data Structures\n",
    "The data comes in the form of pairs consisting of `EventCandidate` objects and their trigger labels. The `EventCandidate` class can be found in [bio.py](/edit/statnlpbook/bio.py)."
   ]
  },
  {
   "cell_type": "code",
   "execution_count": 3,
   "metadata": {
    "collapsed": false
   },
   "outputs": [
    {
     "data": {
      "text/plain": [
       "(<statnlpbook.bio.EventCandidate at 0x104b0ddd8>, 'Negative_regulation')"
      ]
     },
     "execution_count": 3,
     "metadata": {},
     "output_type": "execute_result"
    }
   ],
   "source": [
    "event_candidate, label = event_corpus[0]\n",
    "(event_candidate, label)"
   ]
  },
  {
   "cell_type": "markdown",
   "metadata": {},
   "source": [
    "Event candidate objects specify the classification problem. They consist of a sentence `sent` and the position `trigger_index` of the trigger candidate word. "
   ]
  },
  {
   "cell_type": "code",
   "execution_count": 4,
   "metadata": {
    "collapsed": false
   },
   "outputs": [
    {
     "data": {
      "text/html": [
       "Down-regulation of interferon regulatory factor 4 gene expression in leukemic cells due to hypermethylation of CpG motifs in the promoter region Although the bcr -abl translocation has been shown to be the causative genetic aberration in chronic myeloid leukemia ( CML ) , there is mounting evidence that the deregulation of other genes , such as the transcription factor interferon regulatory factor 4 ( IRF-4 ) , is also implicated in the pathogenesis of CML ."
      ],
      "text/plain": [
       "<statnlpbook.bio.Sentence at 0x104b0dda0>"
      ]
     },
     "execution_count": 4,
     "metadata": {},
     "output_type": "execute_result"
    }
   ],
   "source": [
    "event_candidate.sent"
   ]
  },
  {
   "cell_type": "code",
   "execution_count": 5,
   "metadata": {
    "collapsed": false
   },
   "outputs": [
    {
     "data": {
      "text/plain": [
       "0"
      ]
     },
     "execution_count": 5,
     "metadata": {},
     "output_type": "execute_result"
    }
   ],
   "source": [
    "event_candidate.trigger_index"
   ]
  },
  {
   "cell_type": "markdown",
   "metadata": {},
   "source": [
    "Event candidates also have a set of candidate arguments. These point to token spans (index of first token, inclusive, index of last token, exclusive) in the sentence that may or may not be *arguments* of the event. In the full event extraction task one needs to predict which of these candidates are true arguments of the events. However, here we will ignore this task, and give you only the information what candidates exist, not what their labels are. Note that this information can still be **very important** to understand what type of event the candidate corresponds to, if any. "
   ]
  },
  {
   "cell_type": "code",
   "execution_count": 6,
   "metadata": {
    "collapsed": false
   },
   "outputs": [
    {
     "data": {
      "text/plain": [
       "[(2, 6), (23, 24), (24, 25), (59, 63)]"
      ]
     },
     "execution_count": 6,
     "metadata": {},
     "output_type": "execute_result"
    }
   ],
   "source": [
    "event_candidate.argument_candidate_spans[:4]"
   ]
  },
  {
   "cell_type": "markdown",
   "metadata": {},
   "source": [
    "You can compactly visualise the complete candidate using `bio.render_event`, as shown below. Here the green span corresponds to the token at the trigger index. The spans in red brackets correspond to the argument candidates. The blue spans are protein mentions. "
   ]
  },
  {
   "cell_type": "code",
   "execution_count": 7,
   "metadata": {
    "collapsed": false
   },
   "outputs": [
    {
     "data": {
      "text/html": [
       "<font color='green'>Down-regulation</font> <font color='red'>[</font>of<font color='red'>]</font> <font color='red'>[</font><font color='blue'>[interferon regulatory factor 4]</font><font color='red'>]</font> gene <font color='red'>[</font>expression<font color='red'>]</font> in leukemic cells <font color='red'>[</font>due<font color='red'>]</font> <font color='red'>[</font>to<font color='red'>]</font> hypermethylation <font color='red'>[</font>of<font color='red'>]</font> CpG motifs in the <font color='red'>[</font>promoter<font color='red'>]</font> region Although the <font color='red'>[</font><font color='blue'>[bcr]</font><font color='red'>]</font> <font color='red'>[</font><font color='blue'>[-abl]</font><font color='red'>]</font> <font color='red'>[</font>translocation<font color='red'>]</font> has been shown <font color='red'>[</font>to<font color='red'>]</font> be the causative genetic <font color='red'>[</font>aberration<font color='red'>]</font> in chronic myeloid leukemia ( CML ) , there is mounting evidence <font color='red'>[</font>that<font color='red'>]</font> the <font color='red'>[</font>deregulation<font color='red'>]</font> <font color='red'>[</font>of<font color='red'>]</font> other genes , such as the <font color='red'>[</font>transcription<font color='red'>]</font> <font color='red'>[</font>factor<font color='red'>]</font> <font color='red'>[</font><font color='blue'>[interferon regulatory factor 4]</font><font color='red'>]</font> ( <font color='red'>[</font><font color='blue'>[IRF-4]</font><font color='red'>]</font> ) , is also <font color='red'>[</font>implicated<font color='red'>]</font> in the pathogenesis <font color='red'>[</font>of<font color='red'>]</font> CML ."
      ],
      "text/plain": [
       "<IPython.core.display.HTML object>"
      ]
     },
     "execution_count": 7,
     "metadata": {},
     "output_type": "execute_result"
    }
   ],
   "source": [
    "bio.render_event(event_candidate)"
   ]
  },
  {
   "cell_type": "markdown",
   "metadata": {},
   "source": [
    "### Sentences\n",
    "The sentence object of an event candidate provides additional information about the sentence, such as what spans are proteins, what Part-of-Speech labels the tokens have, and a dependency parse of the sentence. First, the `tokens` field of a sentence provides useful features of tokens: "
   ]
  },
  {
   "cell_type": "code",
   "execution_count": 8,
   "metadata": {
    "collapsed": false
   },
   "outputs": [
    {
     "data": {
      "text/plain": [
       "{'begin': 0,\n",
       " 'end': 15,\n",
       " 'index': 0,\n",
       " 'pos': 'NN',\n",
       " 'stem': 'Down-regul',\n",
       " 'word': 'Down-regulation'}"
      ]
     },
     "execution_count": 8,
     "metadata": {},
     "output_type": "execute_result"
    }
   ],
   "source": [
    "event_candidate.sent.tokens[0]"
   ]
  },
  {
   "cell_type": "markdown",
   "metadata": {},
   "source": [
    "The `dependencies` field stores lexical dependencies between words:"
   ]
  },
  {
   "cell_type": "code",
   "execution_count": 9,
   "metadata": {
    "collapsed": false
   },
   "outputs": [
    {
     "data": {
      "text/plain": [
       "[{'head': 44, 'label': 'nsubj', 'mod': 0},\n",
       " {'head': 4, 'label': 'nn', 'mod': 2}]"
      ]
     },
     "execution_count": 9,
     "metadata": {},
     "output_type": "execute_result"
    }
   ],
   "source": [
    "event_candidate.sent.dependencies[:2]"
   ]
  },
  {
   "cell_type": "markdown",
   "metadata": {},
   "source": [
    "You can render the dependency graph of a sentence like so:"
   ]
  },
  {
   "cell_type": "code",
   "execution_count": 10,
   "metadata": {
    "collapsed": false
   },
   "outputs": [
    {
     "data": {
      "text/html": [
       "\n",
       "    <div id='displacy0' style=\"overflow: scroll; width: 5000px;\"></div>\n",
       "    <script>\n",
       "    $(function() {\n",
       "    requirejs.config({\n",
       "        paths: {\n",
       "            'displaCy': ['/files/node_modules/displacy/displacy'],\n",
       "                                                  // strip .js ^, require adds it back\n",
       "        },\n",
       "    });\n",
       "    require(['displaCy'], function() {\n",
       "        console.log(\"Loaded :)\");\n",
       "        const displacy = new displaCy('http://localhost:8000', {\n",
       "            container: '#displacy0',\n",
       "            format: 'spacy',\n",
       "            distance: 150,\n",
       "            offsetX: 0,\n",
       "            wordSpacing: 20,\n",
       "            arrowSpacing: 3,\n",
       "\n",
       "        });\n",
       "        const parse = {\n",
       "            arcs: [{\"end\": 44, \"label\": \"nsubj\", \"start\": 0, \"dir\": \"left\"}, {\"end\": 4, \"label\": \"nn\", \"start\": 2, \"dir\": \"left\"}, {\"end\": 4, \"label\": \"amod\", \"start\": 3, \"dir\": \"left\"}, {\"end\": 7, \"label\": \"nn\", \"start\": 4, \"dir\": \"left\"}, {\"end\": 5, \"label\": \"num\", \"start\": 4, \"dir\": \"right\"}, {\"end\": 7, \"label\": \"nn\", \"start\": 6, \"dir\": \"left\"}, {\"end\": 7, \"label\": \"prep_of\", \"start\": 0, \"dir\": \"right\"}, {\"end\": 10, \"label\": \"amod\", \"start\": 9, \"dir\": \"left\"}, {\"end\": 10, \"label\": \"prep_in\", \"start\": 7, \"dir\": \"right\"}, {\"end\": 13, \"label\": \"prep_due_to\", \"start\": 7, \"dir\": \"right\"}, {\"end\": 16, \"label\": \"nn\", \"start\": 15, \"dir\": \"left\"}, {\"end\": 16, \"label\": \"prep_of\", \"start\": 13, \"dir\": \"right\"}, {\"end\": 20, \"label\": \"det\", \"start\": 18, \"dir\": \"left\"}, {\"end\": 20, \"label\": \"nn\", \"start\": 19, \"dir\": \"left\"}, {\"end\": 20, \"label\": \"prep_in\", \"start\": 0, \"dir\": \"right\"}, {\"end\": 28, \"label\": \"mark\", \"start\": 21, \"dir\": \"left\"}, {\"end\": 25, \"label\": \"det\", \"start\": 22, \"dir\": \"left\"}, {\"end\": 25, \"label\": \"nn\", \"start\": 23, \"dir\": \"left\"}, {\"end\": 25, \"label\": \"nn\", \"start\": 24, \"dir\": \"left\"}, {\"end\": 28, \"label\": \"nsubjpass\", \"start\": 25, \"dir\": \"left\"}, {\"end\": 34, \"label\": \"xsubj\", \"start\": 25, \"dir\": \"left\"}, {\"end\": 28, \"label\": \"aux\", \"start\": 26, \"dir\": \"left\"}, {\"end\": 28, \"label\": \"auxpass\", \"start\": 27, \"dir\": \"left\"}, {\"end\": 44, \"label\": \"advcl\", \"start\": 28, \"dir\": \"left\"}, {\"end\": 34, \"label\": \"aux\", \"start\": 29, \"dir\": \"left\"}, {\"end\": 34, \"label\": \"cop\", \"start\": 30, \"dir\": \"left\"}, {\"end\": 34, \"label\": \"det\", \"start\": 31, \"dir\": \"left\"}, {\"end\": 34, \"label\": \"amod\", \"start\": 32, \"dir\": \"left\"}, {\"end\": 34, \"label\": \"amod\", \"start\": 33, \"dir\": \"left\"}, {\"end\": 34, \"label\": \"xcomp\", \"start\": 28, \"dir\": \"right\"}, {\"end\": 38, \"label\": \"amod\", \"start\": 36, \"dir\": \"left\"}, {\"end\": 38, \"label\": \"amod\", \"start\": 37, \"dir\": \"left\"}, {\"end\": 38, \"label\": \"prep_in\", \"start\": 34, \"dir\": \"right\"}, {\"end\": 40, \"label\": \"abbrev\", \"start\": 38, \"dir\": \"right\"}, {\"end\": 44, \"label\": \"expl\", \"start\": 43, \"dir\": \"left\"}, {\"end\": 46, \"label\": \"amod\", \"start\": 45, \"dir\": \"left\"}, {\"end\": 46, \"label\": \"nsubj\", \"start\": 44, \"dir\": \"right\"}, {\"end\": 69, \"label\": \"complm\", \"start\": 47, \"dir\": \"left\"}, {\"end\": 49, \"label\": \"det\", \"start\": 48, \"dir\": \"left\"}, {\"end\": 69, \"label\": \"nsubjpass\", \"start\": 49, \"dir\": \"left\"}, {\"end\": 52, \"label\": \"amod\", \"start\": 51, \"dir\": \"left\"}, {\"end\": 52, \"label\": \"prep_of\", \"start\": 49, \"dir\": \"right\"}, {\"end\": 61, \"label\": \"det\", \"start\": 56, \"dir\": \"left\"}, {\"end\": 61, \"label\": \"nn\", \"start\": 57, \"dir\": \"left\"}, {\"end\": 61, \"label\": \"nn\", \"start\": 58, \"dir\": \"left\"}, {\"end\": 61, \"label\": \"nn\", \"start\": 59, \"dir\": \"left\"}, {\"end\": 61, \"label\": \"amod\", \"start\": 60, \"dir\": \"left\"}, {\"end\": 61, \"label\": \"prep_such_as\", \"start\": 52, \"dir\": \"right\"}, {\"end\": 62, \"label\": \"num\", \"start\": 61, \"dir\": \"right\"}, {\"end\": 64, \"label\": \"abbrev\", \"start\": 61, \"dir\": \"right\"}, {\"end\": 69, \"label\": \"auxpass\", \"start\": 67, \"dir\": \"left\"}, {\"end\": 69, \"label\": \"advmod\", \"start\": 68, \"dir\": \"left\"}, {\"end\": 69, \"label\": \"ccomp\", \"start\": 46, \"dir\": \"right\"}, {\"end\": 72, \"label\": \"det\", \"start\": 71, \"dir\": \"left\"}, {\"end\": 72, \"label\": \"prep_in\", \"start\": 69, \"dir\": \"right\"}, {\"end\": 74, \"label\": \"prep_of\", \"start\": 72, \"dir\": \"right\"}],\n",
       "            words: [{\"tag\": \"NN\", \"text\": \"Down-regulation\"}, {\"tag\": \"IN\", \"text\": \"of\"}, {\"tag\": \"NN\", \"text\": \"interferon\"}, {\"tag\": \"JJ\", \"text\": \"regulatory\"}, {\"tag\": \"NN\", \"text\": \"factor\"}, {\"tag\": \"CD\", \"text\": \"4\"}, {\"tag\": \"NN\", \"text\": \"gene\"}, {\"tag\": \"NN\", \"text\": \"expression\"}, {\"tag\": \"IN\", \"text\": \"in\"}, {\"tag\": \"JJ\", \"text\": \"leukemic\"}, {\"tag\": \"NNS\", \"text\": \"cells\"}, {\"tag\": \"IN\", \"text\": \"due\"}, {\"tag\": \"TO\", \"text\": \"to\"}, {\"tag\": \"NN\", \"text\": \"hypermethylation\"}, {\"tag\": \"IN\", \"text\": \"of\"}, {\"tag\": \"NN\", \"text\": \"CpG\"}, {\"tag\": \"NNS\", \"text\": \"motifs\"}, {\"tag\": \"IN\", \"text\": \"in\"}, {\"tag\": \"DT\", \"text\": \"the\"}, {\"tag\": \"NN\", \"text\": \"promoter\"}, {\"tag\": \"NN\", \"text\": \"region\"}, {\"tag\": \"IN\", \"text\": \"Although\"}, {\"tag\": \"DT\", \"text\": \"the\"}, {\"tag\": \"NN\", \"text\": \"bcr\"}, {\"tag\": \"NN\", \"text\": \"-abl\"}, {\"tag\": \"NN\", \"text\": \"translocation\"}, {\"tag\": \"VBZ\", \"text\": \"has\"}, {\"tag\": \"VBN\", \"text\": \"been\"}, {\"tag\": \"VBN\", \"text\": \"shown\"}, {\"tag\": \"TO\", \"text\": \"to\"}, {\"tag\": \"VB\", \"text\": \"be\"}, {\"tag\": \"DT\", \"text\": \"the\"}, {\"tag\": \"JJ\", \"text\": \"causative\"}, {\"tag\": \"JJ\", \"text\": \"genetic\"}, {\"tag\": \"NN\", \"text\": \"aberration\"}, {\"tag\": \"IN\", \"text\": \"in\"}, {\"tag\": \"JJ\", \"text\": \"chronic\"}, {\"tag\": \"JJ\", \"text\": \"myeloid\"}, {\"tag\": \"NN\", \"text\": \"leukemia\"}, {\"tag\": \"-LRB-\", \"text\": \"(\"}, {\"tag\": \"NN\", \"text\": \"CML\"}, {\"tag\": \"-RRB-\", \"text\": \")\"}, {\"tag\": \",\", \"text\": \",\"}, {\"tag\": \"EX\", \"text\": \"there\"}, {\"tag\": \"VBZ\", \"text\": \"is\"}, {\"tag\": \"JJ\", \"text\": \"mounting\"}, {\"tag\": \"NN\", \"text\": \"evidence\"}, {\"tag\": \"IN\", \"text\": \"that\"}, {\"tag\": \"DT\", \"text\": \"the\"}, {\"tag\": \"NN\", \"text\": \"deregulation\"}, {\"tag\": \"IN\", \"text\": \"of\"}, {\"tag\": \"JJ\", \"text\": \"other\"}, {\"tag\": \"NNS\", \"text\": \"genes\"}, {\"tag\": \",\", \"text\": \",\"}, {\"tag\": \"JJ\", \"text\": \"such\"}, {\"tag\": \"IN\", \"text\": \"as\"}, {\"tag\": \"DT\", \"text\": \"the\"}, {\"tag\": \"NN\", \"text\": \"transcription\"}, {\"tag\": \"NN\", \"text\": \"factor\"}, {\"tag\": \"NN\", \"text\": \"interferon\"}, {\"tag\": \"JJ\", \"text\": \"regulatory\"}, {\"tag\": \"NN\", \"text\": \"factor\"}, {\"tag\": \"CD\", \"text\": \"4\"}, {\"tag\": \"-LRB-\", \"text\": \"(\"}, {\"tag\": \"NN\", \"text\": \"IRF-4\"}, {\"tag\": \"-RRB-\", \"text\": \")\"}, {\"tag\": \",\", \"text\": \",\"}, {\"tag\": \"VBZ\", \"text\": \"is\"}, {\"tag\": \"RB\", \"text\": \"also\"}, {\"tag\": \"VBN\", \"text\": \"implicated\"}, {\"tag\": \"IN\", \"text\": \"in\"}, {\"tag\": \"DT\", \"text\": \"the\"}, {\"tag\": \"NN\", \"text\": \"pathogenesis\"}, {\"tag\": \"IN\", \"text\": \"of\"}, {\"tag\": \"NN\", \"text\": \"CML\"}, {\"tag\": \".\", \"text\": \".\"}]\n",
       "        };\n",
       "\n",
       "        displacy.render(parse, {\n",
       "            uniqueId: 'render_displacy0'\n",
       "            //color: '#ff0000'\n",
       "        });\n",
       "        return {};\n",
       "    });\n",
       "    });\n",
       "    </script>"
      ],
      "text/plain": [
       "<IPython.core.display.HTML object>"
      ]
     },
     "execution_count": 10,
     "metadata": {},
     "output_type": "execute_result"
    }
   ],
   "source": [
    "bio.render_dependencies(event_candidate.sent)"
   ]
  },
  {
   "cell_type": "markdown",
   "metadata": {},
   "source": [
    "You can learn about the dependency labels in the [Stanford typed dependencies manual](http://nlp.stanford.edu/software/dependencies_manual.pdf). We also provide [lecture notes on dependency parsing](/notebooks/chapters/Transition-based%20dependency%20parsing.ipynb), including various pointers to more information. \n",
    "\n",
    "The `mentions` stores which spans correspond to proteins."
   ]
  },
  {
   "cell_type": "code",
   "execution_count": 11,
   "metadata": {
    "collapsed": false
   },
   "outputs": [
    {
     "data": {
      "text/plain": [
       "[{'begin': 2, 'end': 6, 'label': 'Protein'},\n",
       " {'begin': 23, 'end': 24, 'label': 'Protein'},\n",
       " {'begin': 24, 'end': 25, 'label': 'Protein'},\n",
       " {'begin': 59, 'end': 63, 'label': 'Protein'},\n",
       " {'begin': 64, 'end': 65, 'label': 'Protein'}]"
      ]
     },
     "execution_count": 11,
     "metadata": {},
     "output_type": "execute_result"
    }
   ],
   "source": [
    "event_candidate.sent.mentions"
   ]
  },
  {
   "cell_type": "markdown",
   "metadata": {},
   "source": [
    "There are some convenience functions for the sentence to check all the syntactic parents or children of a token, or whether a specific token is within a protein mention. These can be useful when designing features:"
   ]
  },
  {
   "cell_type": "code",
   "execution_count": 12,
   "metadata": {
    "collapsed": false
   },
   "outputs": [
    {
     "data": {
      "text/plain": [
       "([(44, 'nsubj')], [(7, 'prep_of'), (20, 'prep_in')])"
      ]
     },
     "execution_count": 12,
     "metadata": {},
     "output_type": "execute_result"
    }
   ],
   "source": [
    "event_candidate.sent.parents[0], event_candidate.sent.children[0] "
   ]
  },
  {
   "cell_type": "code",
   "execution_count": 13,
   "metadata": {
    "collapsed": false
   },
   "outputs": [
    {
     "data": {
      "text/plain": [
       "(True, False)"
      ]
     },
     "execution_count": 13,
     "metadata": {},
     "output_type": "execute_result"
    }
   ],
   "source": [
    "event_candidate.sent.is_protein[3], event_candidate.sent.is_protein[7]"
   ]
  },
  {
   "cell_type": "markdown",
   "metadata": {},
   "source": [
    "### Labels\n",
    "It is useful to know the complete set of event labels:"
   ]
  },
  {
   "cell_type": "code",
   "execution_count": 14,
   "metadata": {
    "collapsed": false
   },
   "outputs": [
    {
     "data": {
      "text/plain": [
       "{'Binding',\n",
       " 'Gene_expression',\n",
       " 'Localization',\n",
       " 'Negative_regulation',\n",
       " 'None',\n",
       " 'Phosphorylation',\n",
       " 'Positive_regulation',\n",
       " 'Protein_catabolism',\n",
       " 'Regulation',\n",
       " 'Transcription'}"
      ]
     },
     "execution_count": 14,
     "metadata": {},
     "output_type": "execute_result"
    }
   ],
   "source": [
    "{y for _,y in event_corpus}"
   ]
  },
  {
   "cell_type": "markdown",
   "metadata": {},
   "source": [
    "## <font color='blue'>Task 1</font>: Create a Feature Function\n",
    "\n",
    "In this task you will extract a specific feature representation $\\repr(\\x)$ for an event candidate $\\x$. In particular, we want to add as features the syntactic children (modifiers) of the trigger token, together with their syntactic dependency label. A modifier of a token $h$ is a token $m$ that modifies $h$'s meaning. For example, in the noun phrase \"green light\" the adjective \"green\" modifies the noun \"light\". We will refer to the modifier token as the \"child\", and the modified token as \"parent\". Correspondingly, in the dependency graph modifiers are the child nodes of the modified tokens.  \n",
    "\n",
    "The feature function will have to be implemented as a python function that populates a python dictionary with key-value pairs where the key indicates both the word and syntactic label of the child. \n",
    "\n",
    "For example, consider the following event and dependency parse:"
   ]
  },
  {
   "cell_type": "code",
   "execution_count": 15,
   "metadata": {
    "collapsed": false
   },
   "outputs": [
    {
     "data": {
      "text/html": [
       "\n",
       "    <div id='displacy1' style=\"overflow: scroll; width: 5000px;\"></div>\n",
       "    <script>\n",
       "    $(function() {\n",
       "    requirejs.config({\n",
       "        paths: {\n",
       "            'displaCy': ['/files/node_modules/displacy/displacy'],\n",
       "                                                  // strip .js ^, require adds it back\n",
       "        },\n",
       "    });\n",
       "    require(['displaCy'], function() {\n",
       "        console.log(\"Loaded :)\");\n",
       "        const displacy = new displaCy('http://localhost:8000', {\n",
       "            container: '#displacy1',\n",
       "            format: 'spacy',\n",
       "            distance: 150,\n",
       "            offsetX: 0,\n",
       "            wordSpacing: 20,\n",
       "            arrowSpacing: 3,\n",
       "\n",
       "        });\n",
       "        const parse = {\n",
       "            arcs: [{\"end\": 2, \"label\": \"det\", \"start\": 0, \"dir\": \"left\"}, {\"end\": 2, \"label\": \"nn\", \"start\": 1, \"dir\": \"left\"}, {\"end\": 4, \"label\": \"nsubjpass\", \"start\": 2, \"dir\": \"left\"}, {\"end\": 4, \"label\": \"auxpass\", \"start\": 3, \"dir\": \"left\"}, {\"end\": 10, \"label\": \"det\", \"start\": 6, \"dir\": \"left\"}, {\"end\": 8, \"label\": \"number\", \"start\": 7, \"dir\": \"left\"}, {\"end\": 10, \"label\": \"amod\", \"start\": 8, \"dir\": \"left\"}, {\"end\": 10, \"label\": \"nn\", \"start\": 9, \"dir\": \"left\"}, {\"end\": 10, \"label\": \"prep_on\", \"start\": 4, \"dir\": \"right\"}, {\"end\": 13, \"label\": \"auxpass\", \"start\": 12, \"dir\": \"left\"}, {\"end\": 13, \"label\": \"dep\", \"start\": 4, \"dir\": \"right\"}, {\"end\": 16, \"label\": \"nn\", \"start\": 15, \"dir\": \"left\"}, {\"end\": 16, \"label\": \"prep_with\", \"start\": 13, \"dir\": \"right\"}, {\"end\": 18, \"label\": \"dep\", \"start\": 4, \"dir\": \"right\"}, {\"end\": 18, \"label\": \"conj_and\", \"start\": 13, \"dir\": \"right\"}],\n",
       "            words: [{\"tag\": \"DT\", \"text\": \"The\"}, {\"tag\": \"NN\", \"text\": \"PCR\"}, {\"tag\": \"NNS\", \"text\": \"products\"}, {\"tag\": \"VBD\", \"text\": \"were\"}, {\"tag\": \"VBN\", \"text\": \"electrophoresed\"}, {\"tag\": \"IN\", \"text\": \"on\"}, {\"tag\": \"DT\", \"text\": \"a\"}, {\"tag\": \"CD\", \"text\": \"3\"}, {\"tag\": \"NN\", \"text\": \"%\"}, {\"tag\": \"NN\", \"text\": \"agarose\"}, {\"tag\": \"NN\", \"text\": \"gel\"}, {\"tag\": \",\", \"text\": \",\"}, {\"tag\": \"VBD\", \"text\": \"were\"}, {\"tag\": \"VBN\", \"text\": \"stained\"}, {\"tag\": \"IN\", \"text\": \"with\"}, {\"tag\": \"NN\", \"text\": \"ethidium\"}, {\"tag\": \"NN\", \"text\": \"bromide\"}, {\"tag\": \"CC\", \"text\": \"and\"}, {\"tag\": \"VBN\", \"text\": \"photographed\"}, {\"tag\": \".\", \"text\": \".\"}]\n",
       "        };\n",
       "\n",
       "        displacy.render(parse, {\n",
       "            uniqueId: 'render_displacy1'\n",
       "            //color: '#ff0000'\n",
       "        });\n",
       "        return {};\n",
       "    });\n",
       "    });\n",
       "    </script>"
      ],
      "text/plain": [
       "<IPython.core.display.HTML object>"
      ]
     },
     "execution_count": 15,
     "metadata": {},
     "output_type": "execute_result"
    }
   ],
   "source": [
    "example = event_corpus[398][0]\n",
    "bio.render_dependencies(example.sent)"
   ]
  },
  {
   "cell_type": "markdown",
   "metadata": {},
   "source": [
    "Here the goal is to produce a dictionary that maps the strings \"Child: det->The\" and \"Child: nn->PCR\" to 1.0. \n",
    "\n",
    "To solve this task, implement the feature function below. The passed in `result` is a dictionary you need to populate with more entries, and the `event` argument indicates for which event you need to extract the features. We have already populated the function with some initial code that should get you started.  "
   ]
  },
  {
   "cell_type": "code",
   "execution_count": 16,
   "metadata": {
    "collapsed": false
   },
   "outputs": [],
   "source": [
    "def add_dependency_child_feats(result, event):\n",
    "    \"\"\"\n",
    "    Append to the `result` dictionary features based on the syntactic dependencies of the event trigger word of\n",
    "    `event`. The feature keys should have the form \"Child: [label]->[word]\" where \"[label]\" is the syntactic label\n",
    "    of the syntatic child (e.g. \"det\" in the case above), and \"[word]\" is the word of the syntactic child (e.g. \"The\" \n",
    "    in the case above).\n",
    "    Args:\n",
    "        result: a defaultdict that returns `0.0` by default. \n",
    "        event: the event for which we want to populate the `result` dictionary with dependency features.\n",
    "    Returns:\n",
    "        Nothing, but populates the `result` dictionary. \n",
    "    \"\"\"\n",
    "    index = 0 # You will need to change this \n",
    "    for child,label in event.sent.children[index]:\n",
    "        result[\"Child: \" + \"WHAT GOES HERE???\"] += 1.0 "
   ]
  },
  {
   "cell_type": "markdown",
   "metadata": {},
   "source": [
    "## <font color='red'>Assessment 1</font>: Test Feature Function (20 pts)\n",
    "Here we test whether your feature function populates the given dictionary correctly. If the result passes all three tests you get 10 pts. Of course, solutions that just manually populate the result with the specific key value pairs tested below will receive 0 pts as well."
   ]
  },
  {
   "cell_type": "code",
   "execution_count": 17,
   "metadata": {
    "collapsed": false
   },
   "outputs": [
    {
     "data": {
      "text/plain": [
       "(False, False, False)"
      ]
     },
     "execution_count": 17,
     "metadata": {},
     "output_type": "execute_result"
    }
   ],
   "source": [
    "#! ASSESSMENT 1 - DO NOT CHANGE, MOVE NOR COPY\n",
    "result = defaultdict(float)\n",
    "add_dependency_child_feats(result, example)\n",
    "\n",
    "check_1 = len(result) == 2\n",
    "check_2 = result['Child: det->The'] == 1.0\n",
    "check_3 = result['Child: nn->PCR'] == 1.0\n",
    "(check_1, check_2, check_3)"
   ]
  },
  {
   "cell_type": "markdown",
   "metadata": {},
   "source": [
    "## <font color='orange'>Mark</font>:  Your solution to Task 1 is marked with ** __ points**. \n",
    "---"
   ]
  },
  {
   "cell_type": "markdown",
   "metadata": {},
   "source": [
    "## <font color='blue'>Task 2</font>: Implement Model\n",
    "\n",
    "You are to implement the `predict_event_labels` function below. This function gets as input a list of event candidate objects, and then returns a sequence of corresponding labels. You can implement this function in any way you like, again utilising any library on the docker image. We have populated the cell and function with a simple implementation that uses the scikit-learn logistic regression model. You can use this as a starting point and focus on implementing better feature functions. You can also start from scratch if you like. \n"
   ]
  },
  {
   "cell_type": "code",
   "execution_count": 18,
   "metadata": {
    "collapsed": true
   },
   "outputs": [],
   "source": [
    "from sklearn.linear_model import LogisticRegression\n",
    "import numpy as np\n",
    "from collections import defaultdict\n",
    "\n",
    "from sklearn.feature_extraction import DictVectorizer\n",
    "from sklearn.preprocessing import LabelEncoder\n",
    "\n",
    "# converts labels into integers, and vice versa, needed by scikit-learn.\n",
    "label_encoder = LabelEncoder()\n",
    "\n",
    "# encodes feature dictionaries as numpy vectors, needed by scikit-learn.\n",
    "vectorizer = DictVectorizer()\n",
    "\n",
    "def event_feat(event):\n",
    "    \"\"\"\n",
    "    This feature function returns a dictionary representation of the event candidate. You can improve the model \n",
    "    by improving this feature function.\n",
    "    Args:\n",
    "        event: the `EventCandidate` object to produce a feature dictionary for.\n",
    "    Returns:\n",
    "        a dictionary with feature keys/indices mapped to feature counts.\n",
    "    \"\"\"\n",
    "    result = defaultdict(float)\n",
    "    result['trigger_word=' + event.sent.tokens[event.trigger_index]['word']] += 1.0\n",
    "    return result\n",
    "\n",
    "# We convert the event candidates and their labels into vectors and integers, respectively.\n",
    "train_event_x = vectorizer.fit_transform([event_feat(x) for x,_ in event_train])\n",
    "train_event_y = label_encoder.fit_transform([y for _,y in event_train])\n",
    "\n",
    "# Create and train the model. Feel free to experiment with other parameters and learners.\n",
    "lr = LogisticRegression(C=.1)\n",
    "lr.fit(train_event_x, train_event_y)\n",
    "\n",
    "def predict_event_labels(event_candidates):\n",
    "    \"\"\"\n",
    "    This function receives a list of `bio.EventCandidate` objects and predicts their labels. \n",
    "    It is currently implemented using scikit-learn, but you are free to replace it with any other\n",
    "    implementation as long as you fulfil its contract.\n",
    "    Args:\n",
    "        event_candidates: A list of `EventCandidate` objects to label.\n",
    "    Returns:\n",
    "        a list of event labels, where the i-th label belongs to the i-th event candidate in the input.\n",
    "    \"\"\"\n",
    "    event_x = vectorizer.transform([event_feat(e) for e in event_candidates])\n",
    "    event_y = label_encoder.inverse_transform(lr.predict(event_x))\n",
    "    return event_y"
   ]
  },
  {
   "cell_type": "markdown",
   "metadata": {},
   "source": [
    "It is useful to inspect the performance of your model, and see where it makes errors, both on the training set (to check for underfitting) and the development set. We have provided you with utility functions to help with this inspection. Note that you don't have to use these utilities, or the cells below, but it can help you to improve your model, and also with the error analysis and description of the approach in Task 3. \n",
    "\n",
    "First, we give you a breakdown of precision, recall and F1 on different event types:"
   ]
  },
  {
   "cell_type": "code",
   "execution_count": 19,
   "metadata": {
    "collapsed": false
   },
   "outputs": [
    {
     "data": {
      "text/html": [
       "<div>\n",
       "<table border=\"1\" class=\"dataframe\">\n",
       "  <thead>\n",
       "    <tr style=\"text-align: right;\">\n",
       "      <th></th>\n",
       "      <th>Label</th>\n",
       "      <th>Gold</th>\n",
       "      <th>Guess</th>\n",
       "      <th>Precision</th>\n",
       "      <th>Recall</th>\n",
       "      <th>F1</th>\n",
       "    </tr>\n",
       "  </thead>\n",
       "  <tbody>\n",
       "    <tr>\n",
       "      <th>0</th>\n",
       "      <td>Binding</td>\n",
       "      <td>180</td>\n",
       "      <td>0</td>\n",
       "      <td>0.000000</td>\n",
       "      <td>0.000000</td>\n",
       "      <td>0.000000</td>\n",
       "    </tr>\n",
       "    <tr>\n",
       "      <th>1</th>\n",
       "      <td>Gene_expression</td>\n",
       "      <td>377</td>\n",
       "      <td>365</td>\n",
       "      <td>0.487671</td>\n",
       "      <td>0.442786</td>\n",
       "      <td>0.464146</td>\n",
       "    </tr>\n",
       "    <tr>\n",
       "      <th>2</th>\n",
       "      <td>Localization</td>\n",
       "      <td>71</td>\n",
       "      <td>0</td>\n",
       "      <td>0.000000</td>\n",
       "      <td>0.000000</td>\n",
       "      <td>0.000000</td>\n",
       "    </tr>\n",
       "    <tr>\n",
       "      <th>3</th>\n",
       "      <td>Negative_regulation</td>\n",
       "      <td>210</td>\n",
       "      <td>0</td>\n",
       "      <td>0.000000</td>\n",
       "      <td>0.000000</td>\n",
       "      <td>0.000000</td>\n",
       "    </tr>\n",
       "    <tr>\n",
       "      <th>4</th>\n",
       "      <td>Phosphorylation</td>\n",
       "      <td>32</td>\n",
       "      <td>0</td>\n",
       "      <td>0.000000</td>\n",
       "      <td>0.000000</td>\n",
       "      <td>0.000000</td>\n",
       "    </tr>\n",
       "    <tr>\n",
       "      <th>5</th>\n",
       "      <td>Positive_regulation</td>\n",
       "      <td>570</td>\n",
       "      <td>0</td>\n",
       "      <td>0.000000</td>\n",
       "      <td>0.000000</td>\n",
       "      <td>0.000000</td>\n",
       "    </tr>\n",
       "    <tr>\n",
       "      <th>6</th>\n",
       "      <td>Protein_catabolism</td>\n",
       "      <td>21</td>\n",
       "      <td>0</td>\n",
       "      <td>0.000000</td>\n",
       "      <td>0.000000</td>\n",
       "      <td>0.000000</td>\n",
       "    </tr>\n",
       "    <tr>\n",
       "      <th>7</th>\n",
       "      <td>Regulation</td>\n",
       "      <td>188</td>\n",
       "      <td>0</td>\n",
       "      <td>0.000000</td>\n",
       "      <td>0.000000</td>\n",
       "      <td>0.000000</td>\n",
       "    </tr>\n",
       "    <tr>\n",
       "      <th>8</th>\n",
       "      <td>Transcription</td>\n",
       "      <td>112</td>\n",
       "      <td>0</td>\n",
       "      <td>0.000000</td>\n",
       "      <td>0.000000</td>\n",
       "      <td>0.000000</td>\n",
       "    </tr>\n",
       "    <tr>\n",
       "      <th>9</th>\n",
       "      <td>[All]</td>\n",
       "      <td>1761</td>\n",
       "      <td>365</td>\n",
       "      <td>0.487671</td>\n",
       "      <td>0.101079</td>\n",
       "      <td>0.167451</td>\n",
       "    </tr>\n",
       "  </tbody>\n",
       "</table>\n",
       "</div>"
      ],
      "text/plain": [
       "                 Label  Gold  Guess  Precision    Recall        F1\n",
       "0              Binding   180      0   0.000000  0.000000  0.000000\n",
       "1      Gene_expression   377    365   0.487671  0.442786  0.464146\n",
       "2         Localization    71      0   0.000000  0.000000  0.000000\n",
       "3  Negative_regulation   210      0   0.000000  0.000000  0.000000\n",
       "4      Phosphorylation    32      0   0.000000  0.000000  0.000000\n",
       "5  Positive_regulation   570      0   0.000000  0.000000  0.000000\n",
       "6   Protein_catabolism    21      0   0.000000  0.000000  0.000000\n",
       "7           Regulation   188      0   0.000000  0.000000  0.000000\n",
       "8        Transcription   112      0   0.000000  0.000000  0.000000\n",
       "9                [All]  1761    365   0.487671  0.101079  0.167451"
      ]
     },
     "execution_count": 19,
     "metadata": {},
     "output_type": "execute_result"
    }
   ],
   "source": [
    "# This line calls your function to produce labels for the test set\n",
    "event_dev_guess = predict_event_labels([x for x,_ in event_dev[:]])\n",
    "# This line produces a confusion matrix\n",
    "cm_dev = bio.create_confusion_matrix(event_dev,event_dev_guess)  \n",
    "# This line turns the confusion matrix into a evaluation table with Precision, Recall and F1 for all labels.\n",
    "bio.full_evaluation_table(cm_dev)"
   ]
  },
  {
   "cell_type": "markdown",
   "metadata": {},
   "source": [
    "It is useful to inspect [bio.py](/edit/statnlpbook/bio.py) to see how we define precision, recall and F1 score in this context.\n",
    "\n",
    "You can also display a confusion matrix to identify what types of errors you are currently making. Notice that the matrix ignores the \"None\"-\"None\" cell as its counts would overpower all other counts (try removing the `outside_label` argument). "
   ]
  },
  {
   "cell_type": "code",
   "execution_count": 20,
   "metadata": {
    "collapsed": false
   },
   "outputs": [
    {
     "data": {
      "image/png": "[encoded data removed]",
      "text/plain": [
       "<matplotlib.figure.Figure at 0x104acf898>"
      ]
     },
     "metadata": {},
     "output_type": "display_data"
    }
   ],
   "source": [
    "import statnlpbook.util as util\n",
    "util.plot_confusion_matrix_dict(cm_dev,90, outside_label=\"None\")"
   ]
  },
  {
   "cell_type": "markdown",
   "metadata": {},
   "source": [
    "The confusion matrix can give you hints on what type of errors you should look for and improve upon. This macro view on your model's performance is often more powerful when combined with a micro view on the instances that produce these errors. You can find errors of a specific type using `bio.find_errors` as shown below:"
   ]
  },
  {
   "cell_type": "code",
   "execution_count": 21,
   "metadata": {
    "collapsed": false
   },
   "outputs": [
    {
     "data": {
      "text/plain": [
       "[(<statnlpbook.bio.EventCandidate at 0x110b6fa58>, 'Transcription', 'None'),\n",
       " (<statnlpbook.bio.EventCandidate at 0x110c86ac8>, 'Transcription', 'None'),\n",
       " (<statnlpbook.bio.EventCandidate at 0x110c86c88>, 'Transcription', 'None')]"
      ]
     },
     "execution_count": 21,
     "metadata": {},
     "output_type": "execute_result"
    }
   ],
   "source": [
    "errors = bio.find_errors(\"Transcription\",\"None\", event_dev, event_dev_guess)[:3]\n",
    "errors"
   ]
  },
  {
   "cell_type": "markdown",
   "metadata": {},
   "source": [
    "These errors you can then inspect in detail via `show_event_error`:"
   ]
  },
  {
   "cell_type": "code",
   "execution_count": 22,
   "metadata": {
    "collapsed": false
   },
   "outputs": [
    {
     "data": {
      "text/html": [
       "<table border=\"1\" class=\"dataframe\">\n",
       "  <thead>\n",
       "    <tr style=\"text-align: right;\">\n",
       "      <th>Gold</th>\n",
       "      <th>Guess</th>\n",
       "    </tr>\n",
       "  </thead>\n",
       "  <tbody>\n",
       "    <tr>\n",
       "      <td>Transcription</td>\n",
       "      <td>None</td>\n",
       "    </tr>\n",
       "  </tbody>\n",
       "</table>These data suggest <font color='red'>[</font>that<font color='red'>]</font> <font color='red'>[</font>activated<font color='red'>]</font> NFAT is <font color='red'>[</font>involved<font color='red'>]</font> in the <font color='red'>[</font>effector<font color='red'>]</font> <font color='red'>[</font>function<font color='red'>]</font> <font color='red'>[</font>of<font color='red'>]</font> eTh2 cells and <font color='red'>[</font>that<font color='red'>]</font> the <font color='red'>[</font>failure<font color='red'>]</font> <font color='red'>[</font>of<font color='red'>]</font> eTh1 cells <font color='red'>[</font>to<font color='red'>]</font> <font color='red'>[</font>produce<font color='red'>]</font> <font color='red'>[</font><font color='blue'>[IL-4]</font><font color='red'>]</font> in <font color='red'>[</font>response<font color='red'>]</font> <font color='red'>[</font>to<font color='red'>]</font> an antigen is <font color='red'>[</font>due<font color='red'>]</font> , <font color='red'>[</font>at<font color='red'>]</font> least partially , <font color='red'>[</font>to<font color='red'>]</font> a <font color='red'>[</font>failure<font color='red'>]</font> <font color='red'>[</font>to<font color='red'>]</font> <font color='red'>[</font>induce<font color='red'>]</font> <font color='red'>[</font>high-level<font color='red'>]</font> <font color='green'>transcription</font> <font color='red'>[</font>of<font color='red'>]</font> the <font color='red'>[</font><font color='blue'>[IL-4]</font><font color='red'>]</font> gene <font color='red'>[</font>by<font color='red'>]</font> NFAT .\n",
       "    <div id='displacy2' style=\"overflow: scroll; width: 5000px;\"></div>\n",
       "    <script>\n",
       "    $(function() {\n",
       "    requirejs.config({\n",
       "        paths: {\n",
       "            'displaCy': ['/files/node_modules/displacy/displacy'],\n",
       "                                                  // strip .js ^, require adds it back\n",
       "        },\n",
       "    });\n",
       "    require(['displaCy'], function() {\n",
       "        console.log(\"Loaded :)\");\n",
       "        const displacy = new displaCy('http://localhost:8000', {\n",
       "            container: '#displacy2',\n",
       "            format: 'spacy',\n",
       "            distance: 150,\n",
       "            offsetX: 0,\n",
       "            wordSpacing: 20,\n",
       "            arrowSpacing: 3,\n",
       "\n",
       "        });\n",
       "        const parse = {\n",
       "            arcs: [{\"end\": 1, \"label\": \"det\", \"start\": 0, \"dir\": \"left\"}, {\"end\": 2, \"label\": \"nsubj\", \"start\": 1, \"dir\": \"left\"}, {\"end\": 7, \"label\": \"complm\", \"start\": 3, \"dir\": \"left\"}, {\"end\": 5, \"label\": \"amod\", \"start\": 4, \"dir\": \"left\"}, {\"end\": 7, \"label\": \"nsubjpass\", \"start\": 5, \"dir\": \"left\"}, {\"end\": 7, \"label\": \"auxpass\", \"start\": 6, \"dir\": \"left\"}, {\"end\": 7, \"label\": \"ccomp\", \"start\": 2, \"dir\": \"right\"}, {\"end\": 11, \"label\": \"det\", \"start\": 9, \"dir\": \"left\"}, {\"end\": 11, \"label\": \"nn\", \"start\": 10, \"dir\": \"left\"}, {\"end\": 11, \"label\": \"prep_in\", \"start\": 7, \"dir\": \"right\"}, {\"end\": 14, \"label\": \"nn\", \"start\": 13, \"dir\": \"left\"}, {\"end\": 14, \"label\": \"prep_of\", \"start\": 11, \"dir\": \"right\"}, {\"end\": 31, \"label\": \"complm\", \"start\": 16, \"dir\": \"left\"}, {\"end\": 18, \"label\": \"det\", \"start\": 17, \"dir\": \"left\"}, {\"end\": 31, \"label\": \"nsubj\", \"start\": 18, \"dir\": \"left\"}, {\"end\": 21, \"label\": \"nn\", \"start\": 20, \"dir\": \"left\"}, {\"end\": 21, \"label\": \"prep_of\", \"start\": 18, \"dir\": \"right\"}, {\"end\": 23, \"label\": \"aux\", \"start\": 22, \"dir\": \"left\"}, {\"end\": 23, \"label\": \"infmod\", \"start\": 18, \"dir\": \"right\"}, {\"end\": 24, \"label\": \"dobj\", \"start\": 23, \"dir\": \"right\"}, {\"end\": 26, \"label\": \"prep_in\", \"start\": 23, \"dir\": \"right\"}, {\"end\": 29, \"label\": \"det\", \"start\": 28, \"dir\": \"left\"}, {\"end\": 29, \"label\": \"prep_to\", \"start\": 26, \"dir\": \"right\"}, {\"end\": 31, \"label\": \"cop\", \"start\": 30, \"dir\": \"left\"}, {\"end\": 31, \"label\": \"ccomp\", \"start\": 2, \"dir\": \"right\"}, {\"end\": 31, \"label\": \"conj_and\", \"start\": 7, \"dir\": \"right\"}, {\"end\": 33, \"label\": \"advmod\", \"start\": 31, \"dir\": \"right\"}, {\"end\": 34, \"label\": \"pobj\", \"start\": 33, \"dir\": \"right\"}, {\"end\": 35, \"label\": \"advmod\", \"start\": 33, \"dir\": \"right\"}, {\"end\": 39, \"label\": \"det\", \"start\": 38, \"dir\": \"left\"}, {\"end\": 39, \"label\": \"prep_to\", \"start\": 31, \"dir\": \"right\"}, {\"end\": 41, \"label\": \"aux\", \"start\": 40, \"dir\": \"left\"}, {\"end\": 41, \"label\": \"infmod\", \"start\": 39, \"dir\": \"right\"}, {\"end\": 43, \"label\": \"amod\", \"start\": 42, \"dir\": \"left\"}, {\"end\": 43, \"label\": \"dobj\", \"start\": 41, \"dir\": \"right\"}, {\"end\": 47, \"label\": \"det\", \"start\": 45, \"dir\": \"left\"}, {\"end\": 47, \"label\": \"nn\", \"start\": 46, \"dir\": \"left\"}, {\"end\": 47, \"label\": \"prep_of\", \"start\": 43, \"dir\": \"right\"}, {\"end\": 49, \"label\": \"prep_by\", \"start\": 43, \"dir\": \"right\"}],\n",
       "            words: [{\"tag\": \"DT\", \"text\": \"These\"}, {\"tag\": \"NNS\", \"text\": \"data\"}, {\"tag\": \"VBP\", \"text\": \"suggest\"}, {\"tag\": \"IN\", \"text\": \"that\"}, {\"tag\": \"VBN\", \"text\": \"activated\"}, {\"tag\": \"NN\", \"text\": \"NFAT\"}, {\"tag\": \"VBZ\", \"text\": \"is\"}, {\"tag\": \"VBN\", \"text\": \"involved\"}, {\"tag\": \"IN\", \"text\": \"in\"}, {\"tag\": \"DT\", \"text\": \"the\"}, {\"tag\": \"NN\", \"text\": \"effector\"}, {\"tag\": \"NN\", \"text\": \"function\"}, {\"tag\": \"IN\", \"text\": \"of\"}, {\"tag\": \"NN\", \"text\": \"eTh2\"}, {\"tag\": \"NNS\", \"text\": \"cells\"}, {\"tag\": \"CC\", \"text\": \"and\"}, {\"tag\": \"IN\", \"text\": \"that\"}, {\"tag\": \"DT\", \"text\": \"the\"}, {\"tag\": \"NN\", \"text\": \"failure\"}, {\"tag\": \"IN\", \"text\": \"of\"}, {\"tag\": \"NN\", \"text\": \"eTh1\"}, {\"tag\": \"NNS\", \"text\": \"cells\"}, {\"tag\": \"TO\", \"text\": \"to\"}, {\"tag\": \"VB\", \"text\": \"produce\"}, {\"tag\": \"NN\", \"text\": \"IL-4\"}, {\"tag\": \"IN\", \"text\": \"in\"}, {\"tag\": \"NN\", \"text\": \"response\"}, {\"tag\": \"TO\", \"text\": \"to\"}, {\"tag\": \"DT\", \"text\": \"an\"}, {\"tag\": \"NN\", \"text\": \"antigen\"}, {\"tag\": \"VBZ\", \"text\": \"is\"}, {\"tag\": \"JJ\", \"text\": \"due\"}, {\"tag\": \",\", \"text\": \",\"}, {\"tag\": \"IN\", \"text\": \"at\"}, {\"tag\": \"JJS\", \"text\": \"least\"}, {\"tag\": \"RB\", \"text\": \"partially\"}, {\"tag\": \",\", \"text\": \",\"}, {\"tag\": \"TO\", \"text\": \"to\"}, {\"tag\": \"DT\", \"text\": \"a\"}, {\"tag\": \"NN\", \"text\": \"failure\"}, {\"tag\": \"TO\", \"text\": \"to\"}, {\"tag\": \"VB\", \"text\": \"induce\"}, {\"tag\": \"JJ\", \"text\": \"high-level\"}, {\"tag\": \"NN\", \"text\": \"transcription\"}, {\"tag\": \"IN\", \"text\": \"of\"}, {\"tag\": \"DT\", \"text\": \"the\"}, {\"tag\": \"NN\", \"text\": \"IL-4\"}, {\"tag\": \"NN\", \"text\": \"gene\"}, {\"tag\": \"IN\", \"text\": \"by\"}, {\"tag\": \"NN\", \"text\": \"NFAT\"}, {\"tag\": \".\", \"text\": \".\"}]\n",
       "        };\n",
       "\n",
       "        displacy.render(parse, {\n",
       "            uniqueId: 'render_displacy2'\n",
       "            //color: '#ff0000'\n",
       "        });\n",
       "        return {};\n",
       "    });\n",
       "    });\n",
       "    </script>"
      ],
      "text/plain": [
       "<IPython.core.display.HTML object>"
      ]
     },
     "execution_count": 22,
     "metadata": {},
     "output_type": "execute_result"
    }
   ],
   "source": [
    "bio.show_event_error(*errors[0])"
   ]
  },
  {
   "cell_type": "markdown",
   "metadata": {},
   "source": [
    "It can also be very useful to inspect your feature map for the given instance. Sometimes this leads you to find out that you have a bug in your feature calculation, or that the feature representation is still insufficient for other reasons."
   ]
  },
  {
   "cell_type": "code",
   "execution_count": 23,
   "metadata": {
    "collapsed": false
   },
   "outputs": [
    {
     "data": {
      "text/plain": [
       "defaultdict(float, {'trigger_word=transcription': 1.0})"
      ]
     },
     "execution_count": 23,
     "metadata": {},
     "output_type": "execute_result"
    }
   ],
   "source": [
    "event_feat(errors[0][0])"
   ]
  },
  {
   "cell_type": "markdown",
   "metadata": {},
   "source": [
    "## <font color='red'>Assessment 2</font>: Assess Accuracy (50 pts) \n",
    "\n",
    "We assess how well your model performs on some unseen test set. We will look at the F1 across all event types, and will score them as follows:\n",
    "\n",
    "* 0-40pts: 17% <= F1 < 60%, linear\n",
    "* 40-50pts: 60% <= F1 < Best Result, linear\n",
    "\n",
    "The **linear** mapping maps any F1 value between the lower and upper bound linearly to a score. For example, if your model's F1 score is $F=55$, then your score is $40\\frac{F-17}{60-17}$. \n",
    "\n",
    "The *Best-Result* perplexity is the maximum of the best perplexity the course organiser achieved, and the submitted F1 scores.  "
   ]
  },
  {
   "cell_type": "code",
   "execution_count": 24,
   "metadata": {
    "collapsed": false
   },
   "outputs": [
    {
     "data": {
      "text/plain": [
       "0.167450611476952"
      ]
     },
     "execution_count": 24,
     "metadata": {},
     "output_type": "execute_result"
    }
   ],
   "source": [
    "#! ASSESSMENT 2 - DO NOT CHANGE, MOVE NOR COPY\n",
    "_snlp_event_test = event_dev # This line will be changed by us after submission to point to a test set.\n",
    "_snlp_event_test_guess = predict_event_labels([x for x,_ in _snlp_event_test[:]])\n",
    "_snlp_cm_test = bio.create_confusion_matrix(_snlp_event_test,_snlp_event_test_guess)  \n",
    "bio.evaluate(_snlp_cm_test)[2] # This is the F1 score"
   ]
  },
  {
   "cell_type": "markdown",
   "metadata": {},
   "source": [
    "## <font color='orange'>Mark</font>:  Your solution to Task 2 is marked with ** __ points**. \n",
    "---"
   ]
  },
  {
   "cell_type": "markdown",
   "metadata": {},
   "source": [
    "## <font color='blue'>Task 3</font>: Describe your Approach\n",
    "\n",
    "Enter a 500 words max description of your approach **in this cell**. Also provide an **error analysis** of the types of errors your system still makes, with suggestions on how to improve it further. Should you need to include figures in your report, make sure they are Python-generated. For that, feel free to create new cells after this cell (before Assessment 3 cell). Link online images at your risk."
   ]
  },
  {
   "cell_type": "markdown",
   "metadata": {},
   "source": [
    "## <font color='red'>Assessment 3</font>: Assess Description (30 pts) \n",
    "\n",
    "We will mark the description along the following dimensions: \n",
    "\n",
    "* Clarity (10pts: very clear, 0pts: we can't figure out what you did)\n",
    "* Creativity (10pts: we could not have come up with this, 0pts: Use only word based features of the trigger word)\n",
    "* Substance (10pts: implemented complex state-of-the-art classifier, 0pts: Only use what is already there)"
   ]
  },
  {
   "cell_type": "markdown",
   "metadata": {},
   "source": [
    "## <font color='orange'>Mark</font>:  Your solution to Task 3 is marked with ** __ points**.\n",
    "---"
   ]
  },
  {
   "cell_type": "markdown",
   "metadata": {},
   "source": [
    "## <font color='orange'>Final mark</font>: Your solution to Assignment 2 is marked with ** __points**. "
   ]
  }
 ],
 "metadata": {
  "kernelspec": {
   "display_name": "Python 3",
   "language": "python",
   "name": "python3"
  },
  "language_info": {
   "codemirror_mode": {
    "name": "ipython",
    "version": 3
   },
   "file_extension": ".py",
   "mimetype": "text/x-python",
   "name": "python",
   "nbconvert_exporter": "python",
   "pygments_lexer": "ipython3",
   "version": "3.5.0"
  }
 },
 "nbformat": 4,
 "nbformat_minor": 0
}
