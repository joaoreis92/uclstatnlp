{
 "cells": [
  {
   "cell_type": "code",
   "execution_count": 31,
   "metadata": {
    "collapsed": false
   },
   "outputs": [
    {
     "ename": "ImportError",
     "evalue": "This module is deprecated.  Use tf.nn.seq2seq instead.",
     "output_type": "error",
     "traceback": [
      "\u001b[0;31m---------------------------------------------------------------------------\u001b[0m",
      "\u001b[0;31mImportError\u001b[0m                               Traceback (most recent call last)",
      "\u001b[0;32m<ipython-input-31-80cce286341a>\u001b[0m in \u001b[0;36m<module>\u001b[0;34m()\u001b[0m\n\u001b[1;32m      1\u001b[0m \u001b[0;32mimport\u001b[0m \u001b[0mnumpy\u001b[0m \u001b[0;32mas\u001b[0m \u001b[0mnp\u001b[0m\u001b[0;34m\u001b[0m\u001b[0m\n\u001b[1;32m      2\u001b[0m \u001b[0;32mimport\u001b[0m \u001b[0mtensorflow\u001b[0m \u001b[0;32mas\u001b[0m \u001b[0mtf\u001b[0m\u001b[0;34m\u001b[0m\u001b[0m\n\u001b[0;32m----> 3\u001b[0;31m \u001b[0;32mfrom\u001b[0m \u001b[0mtensorflow\u001b[0m\u001b[0;34m.\u001b[0m\u001b[0mmodels\u001b[0m\u001b[0;34m.\u001b[0m\u001b[0mrnn\u001b[0m \u001b[0;32mimport\u001b[0m \u001b[0mseq2seq\u001b[0m\u001b[0;34m\u001b[0m\u001b[0m\n\u001b[0m",
      "\u001b[0;32m/home/joao/anaconda3/lib/python3.5/site-packages/tensorflow/models/rnn/seq2seq.py\u001b[0m in \u001b[0;36m<module>\u001b[0;34m()\u001b[0m\n\u001b[1;32m     19\u001b[0m \u001b[0;32mfrom\u001b[0m \u001b[0m__future__\u001b[0m \u001b[0;32mimport\u001b[0m \u001b[0mprint_function\u001b[0m\u001b[0;34m\u001b[0m\u001b[0m\n\u001b[1;32m     20\u001b[0m \u001b[0;34m\u001b[0m\u001b[0m\n\u001b[0;32m---> 21\u001b[0;31m \u001b[0;32mraise\u001b[0m \u001b[0mImportError\u001b[0m\u001b[0;34m(\u001b[0m\u001b[0;34m\"This module is deprecated.  Use tf.nn.seq2seq instead.\"\u001b[0m\u001b[0;34m)\u001b[0m\u001b[0;34m\u001b[0m\u001b[0m\n\u001b[0m",
      "\u001b[0;31mImportError\u001b[0m: This module is deprecated.  Use tf.nn.seq2seq instead."
     ]
    }
   ],
   "source": [
    "import numpy as np\n",
    "import tensorflow as tf\n"
   ]
  },
  {
   "cell_type": "code",
   "execution_count": 1,
   "metadata": {
    "collapsed": true
   },
   "outputs": [],
   "source": [
    "# Neural networks take input as vectors so we have to convert integers to vectors using one-hot encoding\n",
    "# This function will encode a given integer sequence into RNN compatible format (one-hot representation)\n",
    "\n",
    "def encode(X,seq_len, vocab_size):\n",
    "    x = np.zeros((len(X),seq_len, vocab_size), dtype=np.float32)\n",
    "    for ind,batch in enumerate(X):\n",
    "        for j, elem in enumerate(batch):\n",
    "            x[ind, j, elem] = 1\n",
    "    return x"
   ]
  },
  {
   "cell_type": "code",
   "execution_count": 3,
   "metadata": {
    "collapsed": true
   },
   "outputs": [],
   "source": [
    "def batch_gen(batch_size=32, seq_len=10, max_no=100):\n",
    "    # Randomly generate a batch of integer sequences (X) and its sorted\n",
    "    # counterpart (Y)\n",
    "    x = np.zeros((batch_size, seq_len, max_no), dtype=np.float32)\n",
    "    y = np.zeros((batch_size, seq_len, max_no), dtype=np.float32)\n",
    "\n",
    "    X = np.random.randint(max_no, size=(batch_size, seq_len))\n",
    "    Y = np.sort(X, axis=1)\n",
    "    X=np.eye(max_no)[X]\n",
    "    Y=np.eye(max_no)[Y]\n",
    "\n",
    "    return X,Y"
   ]
  },
  {
   "cell_type": "code",
   "execution_count": 19,
   "metadata": {
    "collapsed": true
   },
   "outputs": [],
   "source": [
    "seq_len = 10\n",
    "vocab_len = 100\n",
    "state_size = 100\n",
    "num_layers = 4"
   ]
  },
  {
   "cell_type": "code",
   "execution_count": 33,
   "metadata": {
    "collapsed": false
   },
   "outputs": [
    {
     "ename": "NameError",
     "evalue": "name 'decoder_inputs' is not defined",
     "output_type": "error",
     "traceback": [
      "\u001b[0;31m---------------------------------------------------------------------------\u001b[0m",
      "\u001b[0;31mNameError\u001b[0m                                 Traceback (most recent call last)",
      "\u001b[0;32m<ipython-input-33-a39c366264da>\u001b[0m in \u001b[0;36m<module>\u001b[0;34m()\u001b[0m\n\u001b[1;32m     26\u001b[0m \u001b[0;34m\u001b[0m\u001b[0m\n\u001b[1;32m     27\u001b[0m \u001b[0mval\u001b[0m\u001b[0;34m,\u001b[0m \u001b[0mstate\u001b[0m \u001b[0;34m=\u001b[0m \u001b[0mtf\u001b[0m\u001b[0;34m.\u001b[0m\u001b[0mnn\u001b[0m\u001b[0;34m.\u001b[0m\u001b[0mdynamic_rnn\u001b[0m\u001b[0;34m(\u001b[0m\u001b[0mcell\u001b[0m\u001b[0;34m,\u001b[0m \u001b[0mx\u001b[0m\u001b[0;34m,\u001b[0m \u001b[0mdtype\u001b[0m\u001b[0;34m=\u001b[0m\u001b[0mtf\u001b[0m\u001b[0;34m.\u001b[0m\u001b[0mfloat32\u001b[0m\u001b[0;34m)\u001b[0m\u001b[0;34m\u001b[0m\u001b[0m\n\u001b[0;32m---> 28\u001b[0;31m \u001b[0moutputs\u001b[0m\u001b[0;34m,\u001b[0m \u001b[0mstates\u001b[0m \u001b[0;34m=\u001b[0m \u001b[0mtf\u001b[0m\u001b[0;34m.\u001b[0m\u001b[0mnn\u001b[0m\u001b[0;34m.\u001b[0m\u001b[0mseq2seq\u001b[0m\u001b[0;34m(\u001b[0m\u001b[0mx\u001b[0m\u001b[0;34m,\u001b[0m \u001b[0mdecoder_inputs\u001b[0m\u001b[0;34m,\u001b[0m \u001b[0mcell\u001b[0m\u001b[0;34m)\u001b[0m\u001b[0;34m\u001b[0m\u001b[0m\n\u001b[0m",
      "\u001b[0;31mNameError\u001b[0m: name 'decoder_inputs' is not defined"
     ]
    }
   ],
   "source": [
    "tf.reset_default_graph()\n",
    "\n",
    "x = tf.placeholder(tf.float32,[None,seq_len,vocab_len], \"in_seq\")\n",
    "y_ = tf.placeholder(tf.float32,[None,seq_len], \"in_seq_order\")\n",
    "batch_size = tf.shape(x)[0]\n",
    "\n",
    "init_state = tf.zeros([batch_size, state_size])\n",
    "\n",
    "weights = {\n",
    "    'U': tf.get_variable(name='wU',shape=[seq_len*vocab_len, state_size],initializer=tf.contrib.layers.xavier_initializer()),\n",
    "    'W': tf.get_variable(name='wW',shape=[state_size, state_size],initializer=tf.contrib.layers.xavier_initializer()),\n",
    "    'V': tf.get_variable(name='wV',shape=[state_size, seq_len],initializer=tf.contrib.layers.xavier_initializer())\n",
    "    \n",
    "}\n",
    "\n",
    "biases ={\n",
    "    'U': tf.get_variable(name='bU',shape=[state_size],initializer=tf.contrib.layers.xavier_initializer()),\n",
    "    'W': tf.get_variable(name='bW',shape=[state_size],initializer=tf.contrib.layers.xavier_initializer()),\n",
    "    'V': tf.get_variable(name='bV',shape=[seq_len],initializer=tf.contrib.layers.xavier_initializer())\n",
    "    \n",
    "}\n",
    "\n",
    "\n",
    "cell = tf.nn.rnn_cell.LSTMCell(state_size,state_is_tuple=True)\n",
    "cell = tf.nn.rnn_cell.MultiRNNCell([cell] * num_layers)\n",
    "\n",
    "val, state = tf.nn.dynamic_rnn(cell, x, dtype=tf.float32)\n",
    "outputs, states = tf.nn.seq2seq(x, decoder_inputs, cell)\n"
   ]
  },
  {
   "cell_type": "code",
   "execution_count": 22,
   "metadata": {
    "collapsed": false
   },
   "outputs": [],
   "source": [
    "x = tf.placeholder(tf.int64,[None,seq_len,vocab_len], \"in_seq\")\n",
    "batch_size = tf.shape(x)[0]\n",
    "x_reshaped = tf.reshape(x,[batch_size,seq_len*vocab_len])\n",
    "b = tf.transpose(x_reshaped)\n"
   ]
  },
  {
   "cell_type": "code",
   "execution_count": null,
   "metadata": {
    "collapsed": true
   },
   "outputs": [],
   "source": []
  }
 ],
 "metadata": {
  "anaconda-cloud": {},
  "kernelspec": {
   "display_name": "Python [default]",
   "language": "python",
   "name": "python3"
  },
  "language_info": {
   "codemirror_mode": {
    "name": "ipython",
    "version": 3
   },
   "file_extension": ".py",
   "mimetype": "text/x-python",
   "name": "python",
   "nbconvert_exporter": "python",
   "pygments_lexer": "ipython3",
   "version": "3.5.2"
  }
 },
 "nbformat": 4,
 "nbformat_minor": 1
}
